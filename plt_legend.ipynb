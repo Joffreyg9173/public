import matplotlib.pyplot as plt
import numpy as np
y = np.array([15,35,35,15])
mylabel = ([15,35,35,15])
myexplode = [0.1,0.1,0.1,0.1]
mycolors = ["blue", "yellow", "pink", "green"]
plt.pie(y, labels = mylabel, startangle = 90, explode = myexplode, shadow = True, colors = mycolors)
plt.legend(title = "Numbers")
plt.show()
