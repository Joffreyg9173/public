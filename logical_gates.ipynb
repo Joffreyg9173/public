def fucn():
    print("Welcome, Choose operation\n1.And\n2.Or\n3.Not")
    choice = (int(input("Your choice is: ")))
    
    if choice not in [1, 2, 3]:
        print("Invalid choice. Please select a valid operation.")
        fucn()
        return

    a = list(map(int, input("Eneter numbers seperated by space").split()))
    if len(a) != 4:
        print("Sorry, we need 4 numbers")
        fucn()
        return
    else:
        pass
    
    if choice == 1:
        print("Your choice in And")
        And(a,b)
    elif choice == 2:
        print("Your choice in Or")
        Or(a,b)
    else:
        choice == 3
        print("Your choice in Not")
        Not(a)
    def choice():
        print("Do you want new operation?")
        new = input("Yes or no?")
        if new in ["yes", "yeah", "y", "yes, i do", "i want", "yes i want"]:
            fucn()
        elif new in ["no", "nah", "na", "no, i do not", "no, i dont", "n"]:
            print("Okay, see you later")
        else:
            print("Please, give clear answer")
            choice()
    choice()

def And(a,b):
    b = list(map(int, input("Eneter numbers seperated by space").split()))
    new_h = []
    for i in range(0, 4):
        if a[i] == 1 and b[i] == 1:
            new_h.append("True")
        else:
            new_h.append("False")
    print(new_h)

def Or(a,b):
    b = list(map(int, input("Eneter numbers seperated by space").split()))
    new_h = []
    for i in range(0, 4):
        if a[i] == 1 or b[i] == 1:
            new_h.append("True")
        else:
            new_h.append("False")
    print(new_h)
def Not(a):
    new_h = []
    for i in range(0, 4):
        if a[i] == 0:
            new_h.append("True")
        else:
            a[i] == 1
            new_h.append("False")
    print(new_h)
fucn()
