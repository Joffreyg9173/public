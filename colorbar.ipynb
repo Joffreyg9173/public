import matplotlib.pyplot as plt
import numpy as np
x = np.random.randint(100, size=(100))
y = np.random.randint(100, size=(100))
colors = np.random.randint(100, size = (100))
size = 10 * np.random.randint(100, size = (100))

plt.scatter(x,y, c = colors, s = size, alpha = 0.5, cmap = 'nipy_spectral')
plt.colorbar()
plt.show()
